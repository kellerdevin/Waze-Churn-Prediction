{
 "cells": [
  {
   "cell_type": "markdown",
   "metadata": {
    "id": "DtNBZFHO3M7n"
   },
   "source": [
    "# **Waze Project**\n",
    "**Course 3 - Go Beyond the Numbers: Translate Data into Insights**"
   ]
  },
  {
   "cell_type": "markdown",
   "metadata": {
    "id": "g-E8SNtmRUkN"
   },
   "source": [
    "Your team is still in the early stages of their user churn project. So far, you’ve completed a project proposal and used Python to inspect and organize Waze’s user data.\n",
    "\n",
    "You check your inbox and notice a new message from Chidi Ga, your team’s Senior Data Analyst. Chidi is pleased with the work you have already completed and requests your assistance with exploratory data analysis (EDA) and further data visualization. Harriet Hadzic, Waze's Director of Data Analysis, will want to review a Python notebook that shows your data exploration and visualization.\n",
    "\n",
    "A notebook was structured and prepared to help you in this project. Please complete the following questions and prepare an executive summary."
   ]
  },
  {
   "cell_type": "markdown",
   "metadata": {
    "id": "rgSbVJvomcVa"
   },
   "source": [
    "# **Course 3 End-of-course project: Exploratory data analysis**\n",
    "\n",
    "In this activity, you will examine data provided and prepare it for analysis.\n",
    "<br/>\n",
    "\n",
    "**The purpose** of this project is to conduct exploratory data analysis (EDA) on a provided dataset.\n",
    "\n",
    "**The goal** is to continue the examination of the data that you began in the previous Course, adding relevant visualizations that help communicate the story that the data tells.\n",
    "<br/>\n"
   ]
  },
  {
   "cell_type": "markdown",
   "metadata": {
    "id": "9D43bTW0zOlX"
   },
   "source": [
    "# **Visualize a story in Python**"
   ]
  },
  {
   "cell_type": "markdown",
   "metadata": {
    "id": "rdR5eWbYx8GE"
   },
   "source": [
    "\n",
    "# **PACE stages**\n"
   ]
  },
  {
   "cell_type": "markdown",
   "metadata": {
    "id": "diPme_MzeshF"
   },
   "source": [
    "Throughout these project notebooks, you'll see references to the problem-solving framework PACE. The following notebook components are labeled with the respective PACE stage: Plan, Analyze, Construct, and Execute."
   ]
  },
  {
   "cell_type": "markdown",
   "metadata": {
    "id": "xKLZJUqMx8GE"
   },
   "source": [
    "\n",
    "\n",
    "\n",
    "## **PACE: Plan**\n",
    "\n",
    "Consider the questions in your PACE Strategy Document to reflect on the Plan stage.\n",
    "\n"
   ]
  },
  {
   "cell_type": "markdown",
   "metadata": {
    "id": "SKur6gTPRcvy"
   },
   "source": [
    "### **Task 1. Imports and data loading**\n",
    "\n",
    "For EDA of the data, import the data and packages that will be most helpful, such as pandas, numpy, and matplotlib.\n",
    "\n",
    "\n"
   ]
  },
  {
   "cell_type": "code",
   "execution_count": 1,
   "metadata": {
    "id": "EO8vKZI8x8GF"
   },
   "outputs": [],
   "source": [
    "### YOUR CODE HERE ###\n",
    "import pandas as pd\n",
    "import numpy as np\n",
    "import matplotlib.pyplot as plt\n",
    "import seaborn as sns"
   ]
  },
  {
   "cell_type": "markdown",
   "metadata": {
    "id": "Rf1WWIBW48QC"
   },
   "source": [
    "Read in the data and store it as a dataframe object called df.\n",
    "\n",
    "**Note:** As shown in this cell, the dataset has been automatically loaded in for you. You do not need to download the .csv file, or provide more code, in order to access the dataset and proceed with this lab. Please continue with this activity by completing the following instructions."
   ]
  },
  {
   "cell_type": "code",
   "execution_count": 2,
   "metadata": {
    "id": "w7XSDxoqyF9D",
    "scrolled": true
   },
   "outputs": [],
   "source": [
    "# Load the dataset into a dataframe\n",
    "df = pd.read_csv('waze_dataset.csv')"
   ]
  },
  {
   "cell_type": "code",
   "execution_count": 3,
   "metadata": {
    "scrolled": true
   },
   "outputs": [
    {
     "data": {
      "text/html": [
       "<div>\n",
       "<style scoped>\n",
       "    .dataframe tbody tr th:only-of-type {\n",
       "        vertical-align: middle;\n",
       "    }\n",
       "\n",
       "    .dataframe tbody tr th {\n",
       "        vertical-align: top;\n",
       "    }\n",
       "\n",
       "    .dataframe thead th {\n",
       "        text-align: right;\n",
       "    }\n",
       "</style>\n",
       "<table border=\"1\" class=\"dataframe\">\n",
       "  <thead>\n",
       "    <tr style=\"text-align: right;\">\n",
       "      <th></th>\n",
       "      <th>ID</th>\n",
       "      <th>label</th>\n",
       "      <th>sessions</th>\n",
       "      <th>drives</th>\n",
       "      <th>total_sessions</th>\n",
       "      <th>n_days_after_onboarding</th>\n",
       "      <th>total_navigations_fav1</th>\n",
       "      <th>total_navigations_fav2</th>\n",
       "      <th>driven_km_drives</th>\n",
       "      <th>duration_minutes_drives</th>\n",
       "      <th>activity_days</th>\n",
       "      <th>driving_days</th>\n",
       "      <th>device</th>\n",
       "    </tr>\n",
       "  </thead>\n",
       "  <tbody>\n",
       "    <tr>\n",
       "      <th>0</th>\n",
       "      <td>0</td>\n",
       "      <td>retained</td>\n",
       "      <td>283</td>\n",
       "      <td>226</td>\n",
       "      <td>296.748273</td>\n",
       "      <td>2276</td>\n",
       "      <td>208</td>\n",
       "      <td>0</td>\n",
       "      <td>2628.845068</td>\n",
       "      <td>1985.775061</td>\n",
       "      <td>28</td>\n",
       "      <td>19</td>\n",
       "      <td>Android</td>\n",
       "    </tr>\n",
       "    <tr>\n",
       "      <th>1</th>\n",
       "      <td>1</td>\n",
       "      <td>retained</td>\n",
       "      <td>133</td>\n",
       "      <td>107</td>\n",
       "      <td>326.896596</td>\n",
       "      <td>1225</td>\n",
       "      <td>19</td>\n",
       "      <td>64</td>\n",
       "      <td>13715.920550</td>\n",
       "      <td>3160.472914</td>\n",
       "      <td>13</td>\n",
       "      <td>11</td>\n",
       "      <td>iPhone</td>\n",
       "    </tr>\n",
       "    <tr>\n",
       "      <th>2</th>\n",
       "      <td>2</td>\n",
       "      <td>retained</td>\n",
       "      <td>114</td>\n",
       "      <td>95</td>\n",
       "      <td>135.522926</td>\n",
       "      <td>2651</td>\n",
       "      <td>0</td>\n",
       "      <td>0</td>\n",
       "      <td>3059.148818</td>\n",
       "      <td>1610.735904</td>\n",
       "      <td>14</td>\n",
       "      <td>8</td>\n",
       "      <td>Android</td>\n",
       "    </tr>\n",
       "    <tr>\n",
       "      <th>3</th>\n",
       "      <td>3</td>\n",
       "      <td>retained</td>\n",
       "      <td>49</td>\n",
       "      <td>40</td>\n",
       "      <td>67.589221</td>\n",
       "      <td>15</td>\n",
       "      <td>322</td>\n",
       "      <td>7</td>\n",
       "      <td>913.591123</td>\n",
       "      <td>587.196542</td>\n",
       "      <td>7</td>\n",
       "      <td>3</td>\n",
       "      <td>iPhone</td>\n",
       "    </tr>\n",
       "    <tr>\n",
       "      <th>4</th>\n",
       "      <td>4</td>\n",
       "      <td>retained</td>\n",
       "      <td>84</td>\n",
       "      <td>68</td>\n",
       "      <td>168.247020</td>\n",
       "      <td>1562</td>\n",
       "      <td>166</td>\n",
       "      <td>5</td>\n",
       "      <td>3950.202008</td>\n",
       "      <td>1219.555924</td>\n",
       "      <td>27</td>\n",
       "      <td>18</td>\n",
       "      <td>Android</td>\n",
       "    </tr>\n",
       "  </tbody>\n",
       "</table>\n",
       "</div>"
      ],
      "text/plain": [
       "   ID     label  sessions  drives  total_sessions  n_days_after_onboarding  \\\n",
       "0   0  retained       283     226      296.748273                     2276   \n",
       "1   1  retained       133     107      326.896596                     1225   \n",
       "2   2  retained       114      95      135.522926                     2651   \n",
       "3   3  retained        49      40       67.589221                       15   \n",
       "4   4  retained        84      68      168.247020                     1562   \n",
       "\n",
       "   total_navigations_fav1  total_navigations_fav2  driven_km_drives  \\\n",
       "0                     208                       0       2628.845068   \n",
       "1                      19                      64      13715.920550   \n",
       "2                       0                       0       3059.148818   \n",
       "3                     322                       7        913.591123   \n",
       "4                     166                       5       3950.202008   \n",
       "\n",
       "   duration_minutes_drives  activity_days  driving_days   device  \n",
       "0              1985.775061             28            19  Android  \n",
       "1              3160.472914             13            11   iPhone  \n",
       "2              1610.735904             14             8  Android  \n",
       "3               587.196542              7             3   iPhone  \n",
       "4              1219.555924             27            18  Android  "
      ]
     },
     "execution_count": 3,
     "metadata": {},
     "output_type": "execute_result"
    }
   ],
   "source": [
    "df.shape\n",
    "df.head()"
   ]
  },
  {
   "cell_type": "markdown",
   "metadata": {
    "id": "3mipEiyZx8GI"
   },
   "source": [
    "## **PACE: Analyze**\n",
    "\n",
    "Consider the questions in your PACE Strategy Document and those below where applicable to complete your code:\n",
    "1. Does the data need to be restructured or converted into usable formats?\n",
    "\n",
    "2. Are there any variables that have missing data?\n",
    "\n"
   ]
  },
  {
   "cell_type": "markdown",
   "metadata": {
    "id": "VZiH_pEMNm_M"
   },
   "source": [
    "\n",
    "1. The data is already in a structured format. Each row represents a user.\n",
    "\n",
    "2. The label column had 700 values missing. No other variables have missing values"
   ]
  },
  {
   "cell_type": "markdown",
   "metadata": {
    "id": "n09krlKWRw_2"
   },
   "source": [
    "### **Task 2. Data exploration and cleaning**\n",
    "\n",
    "Consider the following questions:\n",
    "\n",
    "\n",
    "\n",
    "1.  Given the scenario, which data columns are most applicable?\n",
    "\n",
    "2.  Which data columns can you eliminate, knowing they won’t solve your problem scenario?\n",
    "\n",
    "3.  How would you check for missing data? And how would you handle missing data (if any)?\n",
    "\n",
    "4.  How would you check for outliers? And how would handle outliers (if any)?\n",
    "\n",
    "\n",
    "\n",
    "\n",
    "\n"
   ]
  },
  {
   "cell_type": "markdown",
   "metadata": {
    "id": "WQDcGzfANuSe"
   },
   "source": [
    "1. Label, sessions, drives, total sessions, n_days_after_onboarding, driven_km_drives, duration_minutes_drives, activity_days, driving days.\n",
    "2. ID can be dropped from the analysis since we are not interested in identifying a particular user.\n",
    "3. info() shows the count of not null values. I plan to remove these because they make up less then 5% of the data. \n",
    "4. For outliers I plan to use a boxplot in order "
   ]
  },
  {
   "cell_type": "markdown",
   "metadata": {
    "id": "uk6zuv_mUU2k"
   },
   "source": [
    "#### **Data overview and summary statistics**\n",
    "\n",
    "Use the following methods and attributes on the dataframe:\n",
    "\n",
    "* `head()`\n",
    "* `size`\n",
    "* `describe()`\n",
    "* `info()`\n",
    "\n",
    "It's always helpful to have this information at the beginning of a project, where you can always refer back to if needed."
   ]
  },
  {
   "cell_type": "code",
   "execution_count": 4,
   "metadata": {
    "id": "cBOUo5p-tbib"
   },
   "outputs": [
    {
     "data": {
      "text/html": [
       "<div>\n",
       "<style scoped>\n",
       "    .dataframe tbody tr th:only-of-type {\n",
       "        vertical-align: middle;\n",
       "    }\n",
       "\n",
       "    .dataframe tbody tr th {\n",
       "        vertical-align: top;\n",
       "    }\n",
       "\n",
       "    .dataframe thead th {\n",
       "        text-align: right;\n",
       "    }\n",
       "</style>\n",
       "<table border=\"1\" class=\"dataframe\">\n",
       "  <thead>\n",
       "    <tr style=\"text-align: right;\">\n",
       "      <th></th>\n",
       "      <th>ID</th>\n",
       "      <th>label</th>\n",
       "      <th>sessions</th>\n",
       "      <th>drives</th>\n",
       "      <th>total_sessions</th>\n",
       "      <th>n_days_after_onboarding</th>\n",
       "      <th>total_navigations_fav1</th>\n",
       "      <th>total_navigations_fav2</th>\n",
       "      <th>driven_km_drives</th>\n",
       "      <th>duration_minutes_drives</th>\n",
       "      <th>activity_days</th>\n",
       "      <th>driving_days</th>\n",
       "      <th>device</th>\n",
       "    </tr>\n",
       "  </thead>\n",
       "  <tbody>\n",
       "    <tr>\n",
       "      <th>0</th>\n",
       "      <td>0</td>\n",
       "      <td>retained</td>\n",
       "      <td>283</td>\n",
       "      <td>226</td>\n",
       "      <td>296.748273</td>\n",
       "      <td>2276</td>\n",
       "      <td>208</td>\n",
       "      <td>0</td>\n",
       "      <td>2628.845068</td>\n",
       "      <td>1985.775061</td>\n",
       "      <td>28</td>\n",
       "      <td>19</td>\n",
       "      <td>Android</td>\n",
       "    </tr>\n",
       "    <tr>\n",
       "      <th>1</th>\n",
       "      <td>1</td>\n",
       "      <td>retained</td>\n",
       "      <td>133</td>\n",
       "      <td>107</td>\n",
       "      <td>326.896596</td>\n",
       "      <td>1225</td>\n",
       "      <td>19</td>\n",
       "      <td>64</td>\n",
       "      <td>13715.920550</td>\n",
       "      <td>3160.472914</td>\n",
       "      <td>13</td>\n",
       "      <td>11</td>\n",
       "      <td>iPhone</td>\n",
       "    </tr>\n",
       "    <tr>\n",
       "      <th>2</th>\n",
       "      <td>2</td>\n",
       "      <td>retained</td>\n",
       "      <td>114</td>\n",
       "      <td>95</td>\n",
       "      <td>135.522926</td>\n",
       "      <td>2651</td>\n",
       "      <td>0</td>\n",
       "      <td>0</td>\n",
       "      <td>3059.148818</td>\n",
       "      <td>1610.735904</td>\n",
       "      <td>14</td>\n",
       "      <td>8</td>\n",
       "      <td>Android</td>\n",
       "    </tr>\n",
       "    <tr>\n",
       "      <th>3</th>\n",
       "      <td>3</td>\n",
       "      <td>retained</td>\n",
       "      <td>49</td>\n",
       "      <td>40</td>\n",
       "      <td>67.589221</td>\n",
       "      <td>15</td>\n",
       "      <td>322</td>\n",
       "      <td>7</td>\n",
       "      <td>913.591123</td>\n",
       "      <td>587.196542</td>\n",
       "      <td>7</td>\n",
       "      <td>3</td>\n",
       "      <td>iPhone</td>\n",
       "    </tr>\n",
       "    <tr>\n",
       "      <th>4</th>\n",
       "      <td>4</td>\n",
       "      <td>retained</td>\n",
       "      <td>84</td>\n",
       "      <td>68</td>\n",
       "      <td>168.247020</td>\n",
       "      <td>1562</td>\n",
       "      <td>166</td>\n",
       "      <td>5</td>\n",
       "      <td>3950.202008</td>\n",
       "      <td>1219.555924</td>\n",
       "      <td>27</td>\n",
       "      <td>18</td>\n",
       "      <td>Android</td>\n",
       "    </tr>\n",
       "  </tbody>\n",
       "</table>\n",
       "</div>"
      ],
      "text/plain": [
       "   ID     label  sessions  drives  total_sessions  n_days_after_onboarding  \\\n",
       "0   0  retained       283     226      296.748273                     2276   \n",
       "1   1  retained       133     107      326.896596                     1225   \n",
       "2   2  retained       114      95      135.522926                     2651   \n",
       "3   3  retained        49      40       67.589221                       15   \n",
       "4   4  retained        84      68      168.247020                     1562   \n",
       "\n",
       "   total_navigations_fav1  total_navigations_fav2  driven_km_drives  \\\n",
       "0                     208                       0       2628.845068   \n",
       "1                      19                      64      13715.920550   \n",
       "2                       0                       0       3059.148818   \n",
       "3                     322                       7        913.591123   \n",
       "4                     166                       5       3950.202008   \n",
       "\n",
       "   duration_minutes_drives  activity_days  driving_days   device  \n",
       "0              1985.775061             28            19  Android  \n",
       "1              3160.472914             13            11   iPhone  \n",
       "2              1610.735904             14             8  Android  \n",
       "3               587.196542              7             3   iPhone  \n",
       "4              1219.555924             27            18  Android  "
      ]
     },
     "execution_count": 4,
     "metadata": {},
     "output_type": "execute_result"
    }
   ],
   "source": [
    "df.head()"
   ]
  },
  {
   "cell_type": "code",
   "execution_count": 5,
   "metadata": {
    "id": "S3tza5fNfIMo"
   },
   "outputs": [
    {
     "data": {
      "text/plain": [
       "194987"
      ]
     },
     "execution_count": 5,
     "metadata": {},
     "output_type": "execute_result"
    }
   ],
   "source": [
    "df.size"
   ]
  },
  {
   "cell_type": "markdown",
   "metadata": {
    "id": "WulP4lZ9UVgy"
   },
   "source": [
    "Generate summary statistics using the `describe()` method."
   ]
  },
  {
   "cell_type": "code",
   "execution_count": 6,
   "metadata": {
    "id": "fhPkaaqDR99b"
   },
   "outputs": [
    {
     "data": {
      "text/html": [
       "<div>\n",
       "<style scoped>\n",
       "    .dataframe tbody tr th:only-of-type {\n",
       "        vertical-align: middle;\n",
       "    }\n",
       "\n",
       "    .dataframe tbody tr th {\n",
       "        vertical-align: top;\n",
       "    }\n",
       "\n",
       "    .dataframe thead th {\n",
       "        text-align: right;\n",
       "    }\n",
       "</style>\n",
       "<table border=\"1\" class=\"dataframe\">\n",
       "  <thead>\n",
       "    <tr style=\"text-align: right;\">\n",
       "      <th></th>\n",
       "      <th>ID</th>\n",
       "      <th>sessions</th>\n",
       "      <th>drives</th>\n",
       "      <th>total_sessions</th>\n",
       "      <th>n_days_after_onboarding</th>\n",
       "      <th>total_navigations_fav1</th>\n",
       "      <th>total_navigations_fav2</th>\n",
       "      <th>driven_km_drives</th>\n",
       "      <th>duration_minutes_drives</th>\n",
       "      <th>activity_days</th>\n",
       "      <th>driving_days</th>\n",
       "    </tr>\n",
       "  </thead>\n",
       "  <tbody>\n",
       "    <tr>\n",
       "      <th>count</th>\n",
       "      <td>14999.000000</td>\n",
       "      <td>14999.000000</td>\n",
       "      <td>14999.000000</td>\n",
       "      <td>14999.000000</td>\n",
       "      <td>14999.000000</td>\n",
       "      <td>14999.000000</td>\n",
       "      <td>14999.000000</td>\n",
       "      <td>14999.000000</td>\n",
       "      <td>14999.000000</td>\n",
       "      <td>14999.000000</td>\n",
       "      <td>14999.000000</td>\n",
       "    </tr>\n",
       "    <tr>\n",
       "      <th>mean</th>\n",
       "      <td>7499.000000</td>\n",
       "      <td>80.633776</td>\n",
       "      <td>67.281152</td>\n",
       "      <td>189.964447</td>\n",
       "      <td>1749.837789</td>\n",
       "      <td>121.605974</td>\n",
       "      <td>29.672512</td>\n",
       "      <td>4039.340921</td>\n",
       "      <td>1860.976012</td>\n",
       "      <td>15.537102</td>\n",
       "      <td>12.179879</td>\n",
       "    </tr>\n",
       "    <tr>\n",
       "      <th>std</th>\n",
       "      <td>4329.982679</td>\n",
       "      <td>80.699065</td>\n",
       "      <td>65.913872</td>\n",
       "      <td>136.405128</td>\n",
       "      <td>1008.513876</td>\n",
       "      <td>148.121544</td>\n",
       "      <td>45.394651</td>\n",
       "      <td>2502.149334</td>\n",
       "      <td>1446.702288</td>\n",
       "      <td>9.004655</td>\n",
       "      <td>7.824036</td>\n",
       "    </tr>\n",
       "    <tr>\n",
       "      <th>min</th>\n",
       "      <td>0.000000</td>\n",
       "      <td>0.000000</td>\n",
       "      <td>0.000000</td>\n",
       "      <td>0.220211</td>\n",
       "      <td>4.000000</td>\n",
       "      <td>0.000000</td>\n",
       "      <td>0.000000</td>\n",
       "      <td>60.441250</td>\n",
       "      <td>18.282082</td>\n",
       "      <td>0.000000</td>\n",
       "      <td>0.000000</td>\n",
       "    </tr>\n",
       "    <tr>\n",
       "      <th>25%</th>\n",
       "      <td>3749.500000</td>\n",
       "      <td>23.000000</td>\n",
       "      <td>20.000000</td>\n",
       "      <td>90.661156</td>\n",
       "      <td>878.000000</td>\n",
       "      <td>9.000000</td>\n",
       "      <td>0.000000</td>\n",
       "      <td>2212.600607</td>\n",
       "      <td>835.996260</td>\n",
       "      <td>8.000000</td>\n",
       "      <td>5.000000</td>\n",
       "    </tr>\n",
       "    <tr>\n",
       "      <th>50%</th>\n",
       "      <td>7499.000000</td>\n",
       "      <td>56.000000</td>\n",
       "      <td>48.000000</td>\n",
       "      <td>159.568115</td>\n",
       "      <td>1741.000000</td>\n",
       "      <td>71.000000</td>\n",
       "      <td>9.000000</td>\n",
       "      <td>3493.858085</td>\n",
       "      <td>1478.249859</td>\n",
       "      <td>16.000000</td>\n",
       "      <td>12.000000</td>\n",
       "    </tr>\n",
       "    <tr>\n",
       "      <th>75%</th>\n",
       "      <td>11248.500000</td>\n",
       "      <td>112.000000</td>\n",
       "      <td>93.000000</td>\n",
       "      <td>254.192341</td>\n",
       "      <td>2623.500000</td>\n",
       "      <td>178.000000</td>\n",
       "      <td>43.000000</td>\n",
       "      <td>5289.861262</td>\n",
       "      <td>2464.362632</td>\n",
       "      <td>23.000000</td>\n",
       "      <td>19.000000</td>\n",
       "    </tr>\n",
       "    <tr>\n",
       "      <th>max</th>\n",
       "      <td>14998.000000</td>\n",
       "      <td>743.000000</td>\n",
       "      <td>596.000000</td>\n",
       "      <td>1216.154633</td>\n",
       "      <td>3500.000000</td>\n",
       "      <td>1236.000000</td>\n",
       "      <td>415.000000</td>\n",
       "      <td>21183.401890</td>\n",
       "      <td>15851.727160</td>\n",
       "      <td>31.000000</td>\n",
       "      <td>30.000000</td>\n",
       "    </tr>\n",
       "  </tbody>\n",
       "</table>\n",
       "</div>"
      ],
      "text/plain": [
       "                 ID      sessions        drives  total_sessions  \\\n",
       "count  14999.000000  14999.000000  14999.000000    14999.000000   \n",
       "mean    7499.000000     80.633776     67.281152      189.964447   \n",
       "std     4329.982679     80.699065     65.913872      136.405128   \n",
       "min        0.000000      0.000000      0.000000        0.220211   \n",
       "25%     3749.500000     23.000000     20.000000       90.661156   \n",
       "50%     7499.000000     56.000000     48.000000      159.568115   \n",
       "75%    11248.500000    112.000000     93.000000      254.192341   \n",
       "max    14998.000000    743.000000    596.000000     1216.154633   \n",
       "\n",
       "       n_days_after_onboarding  total_navigations_fav1  \\\n",
       "count             14999.000000            14999.000000   \n",
       "mean               1749.837789              121.605974   \n",
       "std                1008.513876              148.121544   \n",
       "min                   4.000000                0.000000   \n",
       "25%                 878.000000                9.000000   \n",
       "50%                1741.000000               71.000000   \n",
       "75%                2623.500000              178.000000   \n",
       "max                3500.000000             1236.000000   \n",
       "\n",
       "       total_navigations_fav2  driven_km_drives  duration_minutes_drives  \\\n",
       "count            14999.000000      14999.000000             14999.000000   \n",
       "mean                29.672512       4039.340921              1860.976012   \n",
       "std                 45.394651       2502.149334              1446.702288   \n",
       "min                  0.000000         60.441250                18.282082   \n",
       "25%                  0.000000       2212.600607               835.996260   \n",
       "50%                  9.000000       3493.858085              1478.249859   \n",
       "75%                 43.000000       5289.861262              2464.362632   \n",
       "max                415.000000      21183.401890             15851.727160   \n",
       "\n",
       "       activity_days  driving_days  \n",
       "count   14999.000000  14999.000000  \n",
       "mean       15.537102     12.179879  \n",
       "std         9.004655      7.824036  \n",
       "min         0.000000      0.000000  \n",
       "25%         8.000000      5.000000  \n",
       "50%        16.000000     12.000000  \n",
       "75%        23.000000     19.000000  \n",
       "max        31.000000     30.000000  "
      ]
     },
     "execution_count": 6,
     "metadata": {},
     "output_type": "execute_result"
    }
   ],
   "source": [
    "df.describe()"
   ]
  },
  {
   "cell_type": "markdown",
   "metadata": {
    "id": "psmn0VD0UWBk"
   },
   "source": [
    "And summary information using the `info()` method."
   ]
  },
  {
   "cell_type": "code",
   "execution_count": 7,
   "metadata": {
    "id": "Thlb8oiyUPwe"
   },
   "outputs": [
    {
     "name": "stdout",
     "output_type": "stream",
     "text": [
      "<class 'pandas.core.frame.DataFrame'>\n",
      "RangeIndex: 14999 entries, 0 to 14998\n",
      "Data columns (total 13 columns):\n",
      " #   Column                   Non-Null Count  Dtype  \n",
      "---  ------                   --------------  -----  \n",
      " 0   ID                       14999 non-null  int64  \n",
      " 1   label                    14299 non-null  object \n",
      " 2   sessions                 14999 non-null  int64  \n",
      " 3   drives                   14999 non-null  int64  \n",
      " 4   total_sessions           14999 non-null  float64\n",
      " 5   n_days_after_onboarding  14999 non-null  int64  \n",
      " 6   total_navigations_fav1   14999 non-null  int64  \n",
      " 7   total_navigations_fav2   14999 non-null  int64  \n",
      " 8   driven_km_drives         14999 non-null  float64\n",
      " 9   duration_minutes_drives  14999 non-null  float64\n",
      " 10  activity_days            14999 non-null  int64  \n",
      " 11  driving_days             14999 non-null  int64  \n",
      " 12  device                   14999 non-null  object \n",
      "dtypes: float64(3), int64(8), object(2)\n",
      "memory usage: 1.5+ MB\n"
     ]
    }
   ],
   "source": [
    "df.info()"
   ]
  },
  {
   "cell_type": "code",
   "execution_count": 8,
   "metadata": {},
   "outputs": [
    {
     "name": "stdout",
     "output_type": "stream",
     "text": [
      "<class 'pandas.core.frame.DataFrame'>\n",
      "RangeIndex: 14999 entries, 0 to 14998\n",
      "Data columns (total 13 columns):\n",
      " #   Column                   Non-Null Count  Dtype  \n",
      "---  ------                   --------------  -----  \n",
      " 0   ID                       14999 non-null  int64  \n",
      " 1   label                    14299 non-null  object \n",
      " 2   sessions                 14999 non-null  int64  \n",
      " 3   drives                   14999 non-null  int64  \n",
      " 4   total_sessions           14999 non-null  float64\n",
      " 5   n_days_after_onboarding  14999 non-null  int64  \n",
      " 6   total_navigations_fav1   14999 non-null  int64  \n",
      " 7   total_navigations_fav2   14999 non-null  int64  \n",
      " 8   driven_km_drives         14999 non-null  float64\n",
      " 9   duration_minutes_drives  14999 non-null  float64\n",
      " 10  activity_days            14999 non-null  int64  \n",
      " 11  driving_days             14999 non-null  int64  \n",
      " 12  device                   14999 non-null  object \n",
      "dtypes: float64(3), int64(8), object(2)\n",
      "memory usage: 1.5+ MB\n"
     ]
    }
   ],
   "source": [
    "df.info()\n",
    "df = df.dropna()"
   ]
  },
  {
   "cell_type": "markdown",
   "metadata": {
    "id": "f0sHpfkhx8GM"
   },
   "source": [
    "## **PACE: Construct**\n",
    "\n",
    "Consider the questions in your PACE Strategy Document to reflect on the Construct stage."
   ]
  },
  {
   "cell_type": "markdown",
   "metadata": {
    "id": "zXjMMPoARVPm"
   },
   "source": [
    "Consider the following questions as you prepare to deal with outliers:\n",
    "\n",
    "1.   What are some ways to identify outliers?\n",
    "2.   How do you make the decision to keep or exclude outliers from any future models?"
   ]
  },
  {
   "cell_type": "markdown",
   "metadata": {
    "id": "AHln5I2ERjAn"
   },
   "source": [
    "We could use a box plot. If the values fall above or below the end of the whiskers, they are plotted as dots and are considered outliers"
   ]
  },
  {
   "cell_type": "markdown",
   "metadata": {
    "id": "BYWkZ4i3wgv4"
   },
   "source": [
    "### **Task 3a. Visualizations**\n",
    "\n",
    "Select data visualization types that will help you understand and explain the data.\n",
    "\n",
    "Now that you know which data columns you’ll use, it is time to decide which data visualization makes the most sense for EDA of the Waze dataset.\n",
    "\n",
    "**Question:** What type of data visualization(s) will be most helpful?\n",
    "\n",
    "* Line graph\n",
    "* Bar chart\n",
    "* Box plot\n",
    "* Histogram\n",
    "* Heat map\n",
    "* Scatter plot\n",
    "* A geographic map\n",
    "\n"
   ]
  },
  {
   "cell_type": "markdown",
   "metadata": {
    "id": "rYYgT9kMQiNF"
   },
   "source": [
    "Boxplot\n",
    "Histogram"
   ]
  },
  {
   "cell_type": "markdown",
   "metadata": {
    "id": "TuWr3WWPQsi0"
   },
   "source": [
    "Begin by examining the spread and distribution of important variables using box plots and histograms."
   ]
  },
  {
   "cell_type": "markdown",
   "metadata": {
    "id": "5-vBw2wpSn0g"
   },
   "source": [
    "#### **`sessions`**\n",
    "\n",
    "_The number of occurrence of a user opening the app during the month_"
   ]
  },
  {
   "cell_type": "code",
   "execution_count": 9,
   "metadata": {
    "id": "9K6Alb7uc9my"
   },
   "outputs": [
    {
     "data": {
      "image/png": "[encoded data removed]",
      "text/plain": [
       "<Figure size 432x288 with 1 Axes>"
      ]
     },
     "metadata": {
      "needs_background": "light"
     },
     "output_type": "display_data"
    }
   ],
   "source": [
    "# Box plot\n",
    "sns.boxplot(x=df['sessions'], fliersize=1)\n",
    "plt.title('sessions box plot');"
   ]
  },
  {
   "cell_type": "code",
   "execution_count": 10,
   "metadata": {
    "id": "1YC9xCrrcvw-"
   },
   "outputs": [
    {
     "data": {
      "text/plain": [
       "Text(0.5, 1.0, 'Sessions Histogram')"
      ]
     },
     "execution_count": 10,
     "metadata": {},
     "output_type": "execute_result"
    },
    {
     "data": {
      "image/png": "[encoded data removed]",
      "text/plain": [
       "<Figure size 432x288 with 1 Axes>"
      ]
     },
     "metadata": {
      "needs_background": "light"
     },
     "output_type": "display_data"
    }
   ],
   "source": [
    "# Histogram\n",
    "### YOUR CODE HERE ###\n",
    "#df['sessions'].hist()\n",
    "sns.histplot(x=df['sessions'])\n",
    "median = df['sessions'].median()\n",
    "plt.axvline(median, color=\"red\", linestyle='--')\n",
    "plt.text(75, 1200, \"median = \" + str(median), color = \"red\")\n",
    "plt.title(\"Sessions Histogram\")"
   ]
  },
  {
   "cell_type": "markdown",
   "metadata": {
    "id": "PKnZDIgDS2gV"
   },
   "source": [
    "The `sessions` variable is a right-skewed distribution with half of the observations having 56 or fewer sessions. However, as indicated by the boxplot, some users have more than 700."
   ]
  },
  {
   "cell_type": "markdown",
   "metadata": {
    "id": "VSBCTrrjdpnn"
   },
   "source": [
    "#### **`drives`**\n",
    "\n",
    "_An occurrence of driving at least 1 km during the month_"
   ]
  },
  {
   "cell_type": "code",
   "execution_count": 11,
   "metadata": {
    "id": "WKEGh-a3yF9K"
   },
   "outputs": [
    {
     "data": {
      "text/plain": [
       "Text(0.5, 1.0, 'Drives Boxplot')"
      ]
     },
     "execution_count": 11,
     "metadata": {},
     "output_type": "execute_result"
    },
    {
     "data": {
      "image/png": "[encoded data removed]",
      "text/plain": [
       "<Figure size 432x288 with 1 Axes>"
      ]
     },
     "metadata": {
      "needs_background": "light"
     },
     "output_type": "display_data"
    }
   ],
   "source": [
    "# Box plot\n",
    "### YOUR CODE HERE ###\n",
    "sns.boxplot(x=df['drives'], fliersize = 1)\n",
    "plt.title(\"Drives Boxplot\")"
   ]
  },
  {
   "cell_type": "code",
   "execution_count": 12,
   "metadata": {
    "id": "NtpxgGQpQ7g9"
   },
   "outputs": [
    {
     "data": {
      "image/png": "[encoded data removed]",
      "text/plain": [
       "<Figure size 432x288 with 1 Axes>"
      ]
     },
     "metadata": {
      "needs_background": "light"
     },
     "output_type": "display_data"
    }
   ],
   "source": [
    "# Histogram\n",
    "### YOUR CODE HERE ###\n",
    "sns.histplot(x = df['drives'])\n",
    "median = df['drives'].median()\n",
    "plt.axvline(median, color = \"red\", linestyle = \"--\")\n",
    "plt.text(80, 900, \"median = \" + str(median), color = \"red\")\n",
    "plt.title('Sessions Box Plot');\n"
   ]
  },
  {
   "cell_type": "markdown",
   "metadata": {
    "id": "SVhzvyNCedL8"
   },
   "source": [
    "The `drives` information follows a distribution similar to the `sessions` variable. It is right-skewed, approximately log-normal, with a median of 48. However, some drivers had over 400 drives in the last month."
   ]
  },
  {
   "cell_type": "markdown",
   "metadata": {
    "id": "M-RvjOHhehOI"
   },
   "source": [
    "#### **`total_sessions`**\n",
    "\n",
    "_A model estimate of the total number of sessions since a user has onboarded_"
   ]
  },
  {
   "cell_type": "code",
   "execution_count": 13,
   "metadata": {
    "id": "ZCC9MHhOQ7Sc"
   },
   "outputs": [
    {
     "data": {
      "text/plain": [
       "Text(0.5, 1.0, 'Total Sessions')"
      ]
     },
     "execution_count": 13,
     "metadata": {},
     "output_type": "execute_result"
    },
    {
     "data": {
      "image/png": "[encoded data removed]",
      "text/plain": [
       "<Figure size 432x288 with 1 Axes>"
      ]
     },
     "metadata": {
      "needs_background": "light"
     },
     "output_type": "display_data"
    }
   ],
   "source": [
    "# Box plot\n",
    "### YOUR CODE HERE ###\n",
    "sns.boxplot(df[\"total_sessions\"], fliersize = 1)\n",
    "plt.title(\"Total Sessions\")"
   ]
  },
  {
   "cell_type": "code",
   "execution_count": 14,
   "metadata": {
    "id": "p5-UmoBzdrTW"
   },
   "outputs": [
    {
     "data": {
      "text/plain": [
       "Text(0.5, 1.0, 'Total Sessions')"
      ]
     },
     "execution_count": 14,
     "metadata": {},
     "output_type": "execute_result"
    },
    {
     "data": {
      "image/png": "[encoded data removed]",
      "text/plain": [
       "<Figure size 432x288 with 1 Axes>"
      ]
     },
     "metadata": {
      "needs_background": "light"
     },
     "output_type": "display_data"
    }
   ],
   "source": [
    "# Histogram\n",
    "### YOUR CODE HERE ###\n",
    "sns.histplot(x = df['total_sessions'])\n",
    "median = df[\"total_sessions\"].median()\n",
    "plt.axvline(median, color = \"red\", linestyle = \"--\")\n",
    "plt.text(200, 700, \"Median = \" + str(median), color = \"red\")\n",
    "plt.title(\"Total Sessions\")"
   ]
  },
  {
   "cell_type": "markdown",
   "metadata": {
    "id": "3i77iZf_etQd"
   },
   "source": [
    "The `total_sessions` is a right-skewed distribution. The median total number of sessions is 159.6. This is interesting information because, if the median number of sessions in the last month was 48 and the median total sessions was ~160, then it seems that a large proportion of a user's total drives might have taken place in the last month. This is something you can examine more closely later."
   ]
  },
  {
   "cell_type": "markdown",
   "metadata": {
    "id": "0sfXzD_eexBm"
   },
   "source": [
    "#### **`n_days_after_onboarding`**\n",
    "\n",
    "_The number of days since a user signed up for the app_"
   ]
  },
  {
   "cell_type": "code",
   "execution_count": 15,
   "metadata": {
    "id": "PGfs6rpEdq-R"
   },
   "outputs": [
    {
     "data": {
      "text/plain": [
       "Text(0.5, 1.0, 'N Days After Onboarding')"
      ]
     },
     "execution_count": 15,
     "metadata": {},
     "output_type": "execute_result"
    },
    {
     "data": {
      "image/png": "[encoded data removed]",
      "text/plain": [
       "<Figure size 432x288 with 1 Axes>"
      ]
     },
     "metadata": {
      "needs_background": "light"
     },
     "output_type": "display_data"
    }
   ],
   "source": [
    "# Box plot\n",
    "### YOUR CODE HERE ###\n",
    "sns.boxplot(x = df[\"n_days_after_onboarding\"], fliersize = 1)\n",
    "plt.title(\"N Days After Onboarding\")"
   ]
  },
  {
   "cell_type": "code",
   "execution_count": 16,
   "metadata": {
    "id": "oqzA9IxRdqr1"
   },
   "outputs": [
    {
     "data": {
      "text/plain": [
       "Text(0.5, 1.0, 'N Days After Onboarding')"
      ]
     },
     "execution_count": 16,
     "metadata": {},
     "output_type": "execute_result"
    },
    {
     "data": {
      "image/png": "[encoded data removed]",
      "text/plain": [
       "<Figure size 432x288 with 1 Axes>"
      ]
     },
     "metadata": {
      "needs_background": "light"
     },
     "output_type": "display_data"
    }
   ],
   "source": [
    "# Histogram\n",
    "sns.histplot(x = df['n_days_after_onboarding'])\n",
    "median = df['n_days_after_onboarding'].median()\n",
    "plt.axvline(median, color = \"red\", linestyle = \"--\")\n",
    "plt.text(1800, 620, \"median = \" + str(median), color = \"red\")\n",
    "plt.title(\"N Days After Onboarding\")"
   ]
  },
  {
   "cell_type": "markdown",
   "metadata": {
    "id": "wFNDAX4_e6aT"
   },
   "source": [
    "The total user tenure (i.e., number of days since\n",
    "onboarding) is a uniform distribution with values ranging from near-zero to \\~3,500 (\\~9.5 years)."
   ]
  },
  {
   "cell_type": "markdown",
   "metadata": {
    "id": "x1QO1Id8e7Oj"
   },
   "source": [
    "#### **`driven_km_drives`**\n",
    "\n",
    "_Total kilometers driven during the month_"
   ]
  },
  {
   "cell_type": "code",
   "execution_count": 17,
   "metadata": {},
   "outputs": [
    {
     "data": {
      "text/plain": [
       "Text(0.5, 1.0, 'Driven Km Drives Boxplot')"
      ]
     },
     "execution_count": 17,
     "metadata": {},
     "output_type": "execute_result"
    },
    {
     "data": {
      "image/png": "[encoded data removed]",
      "text/plain": [
       "<Figure size 432x288 with 1 Axes>"
      ]
     },
     "metadata": {
      "needs_background": "light"
     },
     "output_type": "display_data"
    }
   ],
   "source": [
    "sns.boxplot(df['driven_km_drives'], fliersize = 1)\n",
    "plt.title(\"Driven Km Drives Boxplot\")"
   ]
  },
  {
   "cell_type": "code",
   "execution_count": 18,
   "metadata": {
    "id": "X3tD7KmhfBz8"
   },
   "outputs": [
    {
     "data": {
      "text/plain": [
       "Text(0.5, 1.0, 'Driven Km Drives Histogram')"
      ]
     },
     "execution_count": 18,
     "metadata": {},
     "output_type": "execute_result"
    },
    {
     "data": {
      "image/png": "[encoded data removed]",
      "text/plain": [
       "<Figure size 432x288 with 1 Axes>"
      ]
     },
     "metadata": {
      "needs_background": "light"
     },
     "output_type": "display_data"
    }
   ],
   "source": [
    "# Histogram\n",
    "#df['driven_km_drives'].hist()\n",
    "sns.histplot(x = df['driven_km_drives'])\n",
    "median = df['driven_km_drives'].median()\n",
    "plt.axvline(median, color=\"red\", linestyle=\"--\")\n",
    "plt.text(4850, 750, \"median = \" + str(median), color = \"red\")\n",
    "plt.title(\"Driven Km Drives Histogram\")"
   ]
  },
  {
   "cell_type": "markdown",
   "metadata": {
    "id": "qmj8rhs1fFsD"
   },
   "source": [
    "The number of drives driven in the last month per user is a right-skewed distribution with half the users driving under 3,495 kilometers. As you discovered in the analysis from the previous course, the users in this dataset drive _a lot_. The longest distance driven in the month was over half the circumferene of the earth."
   ]
  },
  {
   "cell_type": "markdown",
   "metadata": {
    "id": "UUAqCCtTfGbJ"
   },
   "source": [
    "#### **`duration_minutes_drives`**\n",
    "\n",
    "_Total duration driven in minutes during the month_"
   ]
  },
  {
   "cell_type": "code",
   "execution_count": 19,
   "metadata": {
    "id": "ElNBoyu9fG8z"
   },
   "outputs": [
    {
     "data": {
      "text/plain": [
       "Text(0.5, 1.0, 'Duration Minutes Drives Boxplot')"
      ]
     },
     "execution_count": 19,
     "metadata": {},
     "output_type": "execute_result"
    },
    {
     "data": {
      "image/png": "[encoded data removed]",
      "text/plain": [
       "<Figure size 432x288 with 1 Axes>"
      ]
     },
     "metadata": {
      "needs_background": "light"
     },
     "output_type": "display_data"
    }
   ],
   "source": [
    "# Box plot\n",
    "sns.boxplot(x = df[\"duration_minutes_drives\"], fliersize = 1)\n",
    "plt.title(\"Duration Minutes Drives Boxplot\")"
   ]
  },
  {
   "cell_type": "code",
   "execution_count": 20,
   "metadata": {
    "id": "7z4ajJJFfHoN"
   },
   "outputs": [
    {
     "data": {
      "text/plain": [
       "Text(0.5, 1.0, 'Duration Minutes Drive Histogram')"
      ]
     },
     "execution_count": 20,
     "metadata": {},
     "output_type": "execute_result"
    },
    {
     "data": {
      "image/png": "[encoded data removed]",
      "text/plain": [
       "<Figure size 432x288 with 1 Axes>"
      ]
     },
     "metadata": {
      "needs_background": "light"
     },
     "output_type": "display_data"
    }
   ],
   "source": [
    "# Histogram\n",
    "### YOUR CODE HERE ###\n",
    "sns.histplot(x = df[\"duration_minutes_drives\"])\n",
    "median = df[\"duration_minutes_drives\"].median()\n",
    "plt.axvline(median, color = \"red\", linestyle = \"--\")\n",
    "plt.text(2250, 700, \"Median = \" + str(median), color = \"red\")\n",
    "plt.title(\"Duration Minutes Drive Histogram\")"
   ]
  },
  {
   "cell_type": "markdown",
   "metadata": {
    "id": "lXRWnXA5fcmn"
   },
   "source": [
    "The `duration_minutes_drives` variable has a heavily skewed right tail. Half of the users drove less than \\~1,478 minutes (\\~25 hours), but some users clocked over 250 hours over the month."
   ]
  },
  {
   "cell_type": "markdown",
   "metadata": {
    "id": "sJ-5zhujfcXb"
   },
   "source": [
    "#### **`activity_days`**\n",
    "\n",
    "_Number of days the user opens the app during the month_"
   ]
  },
  {
   "cell_type": "code",
   "execution_count": 21,
   "metadata": {
    "id": "rpy9NzemfkDz"
   },
   "outputs": [
    {
     "data": {
      "text/plain": [
       "<matplotlib.axes._subplots.AxesSubplot at 0x7ff3fc046ad0>"
      ]
     },
     "execution_count": 21,
     "metadata": {},
     "output_type": "execute_result"
    },
    {
     "data": {
      "image/png": "[encoded data removed]",
      "text/plain": [
       "<Figure size 432x288 with 1 Axes>"
      ]
     },
     "metadata": {
      "needs_background": "light"
     },
     "output_type": "display_data"
    }
   ],
   "source": [
    "# Box plot\n",
    "### YOUR CODE HERE ###\n",
    "sns.boxplot(x = df[\"activity_days\"], fliersize = 1)"
   ]
  },
  {
   "cell_type": "code",
   "execution_count": 22,
   "metadata": {
    "id": "JTdGJbmffqNK"
   },
   "outputs": [
    {
     "data": {
      "text/plain": [
       "Text(16, 920, 'median = 16.0')"
      ]
     },
     "execution_count": 22,
     "metadata": {},
     "output_type": "execute_result"
    },
    {
     "data": {
      "image/png": "[encoded data removed]",
      "text/plain": [
       "<Figure size 432x288 with 1 Axes>"
      ]
     },
     "metadata": {
      "needs_background": "light"
     },
     "output_type": "display_data"
    }
   ],
   "source": [
    "# Histogram\n",
    "### YOUR CODE HERE ###\n",
    "sns.histplot(x = df[\"activity_days\"])\n",
    "median = df[\"activity_days\"].median()\n",
    "plt.axvline(median, color = \"red\", linestyle = \"--\")\n",
    "plt.text(16, 920, \"median = \" + str(median), color = \"red\")"
   ]
  },
  {
   "cell_type": "markdown",
   "metadata": {
    "id": "eRkkqv1xfrPN"
   },
   "source": [
    "Within the last month, users opened the app a median of 16 times. The box plot reveals a centered distribution. The histogram shows a nearly uniform distribution of ~500 people opening the app on each count of days. However, there are ~250 people who didn't open the app at all and ~250 people who opened the app every day of the month.\n",
    "\n",
    "This distribution is noteworthy because it does not mirror the `sessions` distribution, which you might think would be closely correlated with `activity_days`."
   ]
  },
  {
   "cell_type": "markdown",
   "metadata": {
    "id": "fbbqVbBFfrBP"
   },
   "source": [
    "#### **`driving_days`**\n",
    "\n",
    "_Number of days the user drives (at least 1 km) during the month_"
   ]
  },
  {
   "cell_type": "code",
   "execution_count": 23,
   "metadata": {
    "id": "hhn-402gf3ff"
   },
   "outputs": [
    {
     "data": {
      "text/plain": [
       "Text(0.5, 1.0, 'Driving Days Boxplot')"
      ]
     },
     "execution_count": 23,
     "metadata": {},
     "output_type": "execute_result"
    },
    {
     "data": {
      "image/png": "[encoded data removed]",
      "text/plain": [
       "<Figure size 432x288 with 1 Axes>"
      ]
     },
     "metadata": {
      "needs_background": "light"
     },
     "output_type": "display_data"
    }
   ],
   "source": [
    "# Box plot\n",
    "### YOUR CODE HERE ###\n",
    "sns.boxplot(x = df[\"driving_days\"], fliersize = 1)\n",
    "plt.title(\"Driving Days Boxplot\")"
   ]
  },
  {
   "cell_type": "code",
   "execution_count": 24,
   "metadata": {
    "id": "Yi9bkUS2f37N"
   },
   "outputs": [
    {
     "data": {
      "text/plain": [
       "Text(0.5, 1.0, 'Driving Days Histogram')"
      ]
     },
     "execution_count": 24,
     "metadata": {},
     "output_type": "execute_result"
    },
    {
     "data": {
      "image/png": "[encoded data removed]",
      "text/plain": [
       "<Figure size 432x288 with 1 Axes>"
      ]
     },
     "metadata": {
      "needs_background": "light"
     },
     "output_type": "display_data"
    }
   ],
   "source": [
    "# Histogram\n",
    "### YOUR CODE HERE ###\n",
    "sns.histplot(x = df[\"driving_days\"])\n",
    "median = df[\"driving_days\"].median()\n",
    "plt.axvline(median, color = \"red\", linestyle = \"--\")\n",
    "plt.text(13, 1300, \"Median = \" + str(median), color = \"red\")\n",
    "plt.title(\"Driving Days Histogram\")"
   ]
  },
  {
   "cell_type": "markdown",
   "metadata": {
    "id": "I2p_HuzRf4Xo"
   },
   "source": [
    "The number of days users drove each month is almost uniform, and it largely correlates with the number of days they opened the app that month, except the `driving_days` distribution tails off on the right.\n",
    "\n",
    "However, there were almost twice as many users (\\~1,000 vs. \\~550) who did not drive at all during the month. This might seem counterintuitive when considered together with the information from `activity_days`. That variable had \\~500 users opening the app on each of most of the day counts, but there were only \\~250 users who did not open the app at all during the month and ~250 users who opened the app every day. Flag this for further investigation later."
   ]
  },
  {
   "cell_type": "markdown",
   "metadata": {
    "id": "-TmcckFcgDLK"
   },
   "source": [
    "#### **`device`**\n",
    "\n",
    "_The type of device a user starts a session with_\n",
    "\n",
    "This is a categorical variable, so you do not plot a box plot for it. A good plot for a binary categorical variable is a pie chart."
   ]
  },
  {
   "cell_type": "code",
   "execution_count": 25,
   "metadata": {
    "id": "evNrxWWQgDuN"
   },
   "outputs": [
    {
     "data": {
      "text/plain": [
       "Text(0.5, 1.0, 'Users by Devices')"
      ]
     },
     "execution_count": 25,
     "metadata": {},
     "output_type": "execute_result"
    },
    {
     "data": {
      "image/png": "[encoded data removed]",
      "text/plain": [
       "<Figure size 432x288 with 1 Axes>"
      ]
     },
     "metadata": {},
     "output_type": "display_data"
    }
   ],
   "source": [
    "# Pie chart\n",
    "device_counts = df['device'].value_counts()\n",
    "#print(device_counts)\n",
    "plt.pie(device_counts, \n",
    "        labels = [f'{device_counts.index[0]}: {device_counts.values[0]}', \n",
    "                  f'{device_counts.index[1]}: {device_counts.values[1]}'],\n",
    "        autopct='%1.1f%%')\n",
    "plt.title(\"Users by Devices\")"
   ]
  },
  {
   "cell_type": "markdown",
   "metadata": {
    "id": "m7NuKItJgEh2"
   },
   "source": [
    "There are nearly twice as many iPhone users as Android users represented in this data."
   ]
  },
  {
   "cell_type": "markdown",
   "metadata": {
    "id": "VJH5j71RgViQ"
   },
   "source": [
    "#### **`label`**\n",
    "\n",
    "_Binary target variable (“retained” vs “churned”) for if a user has churned anytime during the course of the month_\n",
    "\n",
    "This is also a categorical variable, and as such would not be plotted as a box plot. Plot a pie chart instead."
   ]
  },
  {
   "cell_type": "code",
   "execution_count": 26,
   "metadata": {
    "id": "MQ1nVQIBgWOv"
   },
   "outputs": [
    {
     "data": {
      "text/plain": [
       "Text(0.5, 1.0, 'Retained vs Churned Users')"
      ]
     },
     "execution_count": 26,
     "metadata": {},
     "output_type": "execute_result"
    },
    {
     "data": {
      "image/png": "[encoded data removed]",
      "text/plain": [
       "<Figure size 432x288 with 1 Axes>"
      ]
     },
     "metadata": {},
     "output_type": "display_data"
    }
   ],
   "source": [
    "# Pie chart\n",
    "### YOUR CODE HERE ###\n",
    "label_counts = df['label'].value_counts()\n",
    "plt.pie(label_counts, \n",
    "        labels = [f'{label_counts.index[0]}: {label_counts.values[0]}', \n",
    "                  f'{label_counts.index[1]}: {label_counts.values[1]}'],\n",
    "        autopct='%1.1f%%'\n",
    "        )\n",
    "plt.title(\"Retained vs Churned Users\")"
   ]
  },
  {
   "cell_type": "markdown",
   "metadata": {
    "id": "cmM8NrSYghlg"
   },
   "source": [
    "Less than 18% of the users churned."
   ]
  },
  {
   "cell_type": "markdown",
   "metadata": {
    "id": "cRsY_TYPgik5"
   },
   "source": [
    "#### **`driving_days` vs. `activity_days`**\n",
    "\n",
    "Because both `driving_days` and `activity_days` represent counts of days over a month and they're also closely related, you can plot them together on a single histogram. This will help to better understand how they relate to each other without having to scroll back and forth comparing histograms in two different places.\n",
    "\n",
    "Plot a histogram that, for each day, has a bar representing the counts of `driving_days` and `activity_days`."
   ]
  },
  {
   "cell_type": "code",
   "execution_count": 27,
   "metadata": {
    "id": "Ly1sNysEgjFc"
   },
   "outputs": [
    {
     "data": {
      "image/png": "[encoded data removed]",
      "text/plain": [
       "<Figure size 432x288 with 1 Axes>"
      ]
     },
     "metadata": {
      "needs_background": "light"
     },
     "output_type": "display_data"
    }
   ],
   "source": [
    "# Histogram\n",
    "### YOUR CODE HERE ###\n",
    "sns.histplot([df['driving_days'], df['activity_days']], label=['Driving Days', 'Activity Days'])\n",
    "plt.xlabel('days')\n",
    "plt.ylabel('count')\n",
    "plt.title('driving_days vs. activity_days');\n"
   ]
  },
  {
   "cell_type": "markdown",
   "metadata": {
    "id": "8kQS1OzIgzhF"
   },
   "source": [
    "As observed previously, this might seem counterintuitive. After all, why are there _fewer_ people who didn't use the app at all during the month and _more_ people who didn't drive at all during the month?\n",
    "\n",
    "On the other hand, it could just be illustrative of the fact that, while these variables are related to each other, they're not the same. People probably just open the app more than they use the app to drive&mdash;perhaps to check drive times or route information, to update settings, or even just by mistake.\n",
    "\n",
    "Nonetheless, it might be worthwile to contact the data team at Waze to get more information about this, especially because it seems that the number of days in the month is not the same between variables.\n",
    "\n",
    "Confirm the maximum number of days for each variable&mdash;`driving_days` and `activity_days`."
   ]
  },
  {
   "cell_type": "code",
   "execution_count": 28,
   "metadata": {
    "id": "ZY266xXxg-rO"
   },
   "outputs": [
    {
     "name": "stdout",
     "output_type": "stream",
     "text": [
      "max driving days = 30\n",
      "max activity days = 31\n"
     ]
    }
   ],
   "source": [
    "### YOUR CODE HERE ###\n",
    "print(\"max driving days = \" + str(df['driving_days'].max()))\n",
    "print(\"max activity days = \" + str(df['activity_days'].max()))"
   ]
  },
  {
   "cell_type": "markdown",
   "metadata": {
    "id": "oBEq9YwChEGx"
   },
   "source": [
    "It's true. Although it's possible that not a single user drove all 31 days of the month, it's highly unlikely, considering there are 15,000 people represented in the dataset.\n",
    "\n",
    "One other way to check the validity of these variables is to plot a simple scatter plot with the x-axis representing one variable and the y-axis representing the other."
   ]
  },
  {
   "cell_type": "code",
   "execution_count": 29,
   "metadata": {
    "id": "I4VMyxguhFBV"
   },
   "outputs": [
    {
     "data": {
      "text/plain": [
       "Text(0.5, 1.0, 'driving_days vs. activity_days')"
      ]
     },
     "execution_count": 29,
     "metadata": {},
     "output_type": "execute_result"
    },
    {
     "data": {
      "image/png": "[encoded data removed]",
      "text/plain": [
       "<Figure size 432x288 with 1 Axes>"
      ]
     },
     "metadata": {
      "needs_background": "light"
     },
     "output_type": "display_data"
    }
   ],
   "source": [
    "# Scatter plot\n",
    "### YOUR CODE HERE ###\n",
    "#df.plot(kind = 'scatter', x = 'driving_days', y = 'activity_days')\n",
    "sns.scatterplot(data = df,  x = 'driving_days', y = 'activity_days')\n",
    "plt.title('driving_days vs. activity_days')\n",
    " "
   ]
  },
  {
   "cell_type": "markdown",
   "metadata": {
    "id": "DWO3ljhFhG-e"
   },
   "source": [
    "Notice that there is a theoretical limit. If you use the app to drive, then by definition it must count as a day-use as well. In other words, you cannot have more drive-days than activity-days. None of the samples in this data violate this rule, which is good."
   ]
  },
  {
   "cell_type": "markdown",
   "metadata": {
    "id": "bcZkCH5WhVfE"
   },
   "source": [
    "#### **Retention by device**\n",
    "\n",
    "Plot a histogram that has four bars&mdash;one for each device-label combination&mdash;to show how many iPhone users were retained/churned and how many Android users were retained/churned."
   ]
  },
  {
   "cell_type": "code",
   "execution_count": 30,
   "metadata": {
    "id": "75uHBjB1hZIl"
   },
   "outputs": [
    {
     "data": {
      "text/plain": [
       "<matplotlib.axes._subplots.AxesSubplot at 0x7ff3fba2d510>"
      ]
     },
     "execution_count": 30,
     "metadata": {},
     "output_type": "execute_result"
    },
    {
     "data": {
      "image/png": "[encoded data removed]",
      "text/plain": [
       "<Figure size 432x288 with 1 Axes>"
      ]
     },
     "metadata": {
      "needs_background": "light"
     },
     "output_type": "display_data"
    }
   ],
   "source": [
    "# Histogram\n",
    "### YOUR CODE HERE ###\n",
    "sns.histplot(data = df, \n",
    "             x = 'device',\n",
    "             hue = 'label',\n",
    "             multiple = 'dodge',\n",
    "             shrink= 0.9\n",
    "            )\n",
    "\n"
   ]
  },
  {
   "cell_type": "markdown",
   "metadata": {
    "id": "sVOvIbG-hZg-"
   },
   "source": [
    "The proportion of churned users to retained users is consistent between device types."
   ]
  },
  {
   "cell_type": "markdown",
   "metadata": {
    "id": "TMYRLh8EhhuK"
   },
   "source": [
    "#### **Retention by kilometers driven per driving day**\n",
    "\n",
    "In the previous course, you discovered that the median distance driven last month for users who churned was 8.33 km, versus 3.36 km for people who did not churn. Examine this further.\n",
    "\n",
    "1. Create a new column in `df` called `km_per_driving_day`, which represents the mean distance driven per driving day for each user.\n",
    "\n",
    "2. Call the `describe()` method on the new column."
   ]
  },
  {
   "cell_type": "code",
   "execution_count": 31,
   "metadata": {
    "id": "6IONTyaHhipo"
   },
   "outputs": [
    {
     "data": {
      "text/plain": [
       "count    1.429900e+04\n",
       "mean              inf\n",
       "std               NaN\n",
       "min      3.022063e+00\n",
       "25%      1.675616e+02\n",
       "50%      3.241789e+02\n",
       "75%      7.608293e+02\n",
       "max               inf\n",
       "Name: km_per_driving_day, dtype: float64"
      ]
     },
     "execution_count": 31,
     "metadata": {},
     "output_type": "execute_result"
    }
   ],
   "source": [
    "# 1. Create `km_per_driving_day` column\n",
    "df['km_per_driving_day'] = df['driven_km_drives'] / df['driving_days']\n",
    "\n",
    "# 2. Call `describe()` on the new column\n",
    "### YOUR CODE HERE ###\n",
    "df[\"km_per_driving_day\"].describe()"
   ]
  },
  {
   "cell_type": "markdown",
   "metadata": {},
   "source": [
    "What do you notice? The mean value is infinity, the standard deviation is NaN, and the max value is infinity. Why do you think this is?\n",
    "\n",
    "This is the result of there being values of zero in the `driving_days` column. Pandas imputes a value of infinity in the corresponding rows of the new column because division by zero is undefined.\n",
    "\n",
    "1. Convert these values from infinity to zero. You can use `np.inf` to refer to a value of infinity.\n",
    "\n",
    "2. Call `describe()` on the `km_per_driving_day` column to verify that it worked."
   ]
  },
  {
   "cell_type": "code",
   "execution_count": 32,
   "metadata": {},
   "outputs": [
    {
     "data": {
      "text/plain": [
       "count    14299.000000\n",
       "mean       581.942399\n",
       "std       1038.254509\n",
       "min          0.000000\n",
       "25%        136.168003\n",
       "50%        273.301012\n",
       "75%        558.018761\n",
       "max      15420.234110\n",
       "Name: km_per_driving_day, dtype: float64"
      ]
     },
     "execution_count": 32,
     "metadata": {},
     "output_type": "execute_result"
    }
   ],
   "source": [
    "# 1. Convert infinite values to zero\n",
    "### YOUR CODE HERE ###\n",
    "df.loc[df[\"km_per_driving_day\"] == np.inf, \"km_per_driving_day\"] = 0\n",
    "\n",
    "# 2. Confirm that it worked\n",
    "### YOUR CODE HERE ###\n",
    "df['km_per_driving_day'].describe()"
   ]
  },
  {
   "cell_type": "markdown",
   "metadata": {
    "id": "DVCP1F9thspa"
   },
   "source": [
    "The maximum value is 15,420 kilometers _per drive day_. This is physically impossible. Driving 100 km/hour for 12 hours is 1,200 km. It's unlikely many people averaged more than this each day they drove, so, for now, disregard rows where the distance in this column is greater than 1,200 km.\n",
    "\n",
    "Plot a histogram of the new `km_per_driving_day` column, disregarding those users with values greater than 1,200 km. Each bar should be the same length and have two colors, one color representing the percent of the users in that bar that churned and the other representing the percent that were retained. This can be done by setting the `multiple` parameter of seaborn's [`histplot()`](https://seaborn.pydata.org/generated/seaborn.histplot.html) function to `fill`."
   ]
  },
  {
   "cell_type": "code",
   "execution_count": 33,
   "metadata": {
    "id": "8ntKu1bAhxhA"
   },
   "outputs": [
    {
     "data": {
      "image/png": "[encoded data removed]",
      "text/plain": [
       "<Figure size 864x360 with 1 Axes>"
      ]
     },
     "metadata": {
      "needs_background": "light"
     },
     "output_type": "display_data"
    }
   ],
   "source": [
    "# Histogram\n",
    "### YOUR CODE HERE ###\n",
    "plt.figure(figsize = (12,5))\n",
    "sns.histplot(data = df,\n",
    "             x = \"km_per_driving_day\",\n",
    "             bins = range(0,1201,50),\n",
    "             hue = \"label\",\n",
    "             multiple = \"fill\"\n",
    "            )\n",
    "plt.xlabel(\"Km per Driving Day\")\n",
    "plt.ylabel(\"%\")\n",
    "plt.title('Churn rate by mean km per driving day');"
   ]
  },
  {
   "cell_type": "markdown",
   "metadata": {
    "id": "cD8icOhNh9zD"
   },
   "source": [
    "The churn rate tends to increase as the mean daily distance driven increases, confirming what was found in the previous course. It would be worth investigating further the reasons for long-distance users to discontinue using the app."
   ]
  },
  {
   "cell_type": "markdown",
   "metadata": {
    "id": "bKK1y7xTh-xY"
   },
   "source": [
    "#### **Churn rate per number of driving days**\n",
    "\n",
    "Create another histogram just like the previous one, only this time it should represent the churn rate for each number of driving days."
   ]
  },
  {
   "cell_type": "code",
   "execution_count": 34,
   "metadata": {
    "id": "GPc4nj-7iDPB"
   },
   "outputs": [
    {
     "data": {
      "text/plain": [
       "Text(0.5, 1.0, 'Churn rate per driving day')"
      ]
     },
     "execution_count": 34,
     "metadata": {},
     "output_type": "execute_result"
    },
    {
     "data": {
      "image/png": "[encoded data removed]",
      "text/plain": [
       "<Figure size 864x360 with 1 Axes>"
      ]
     },
     "metadata": {
      "needs_background": "light"
     },
     "output_type": "display_data"
    }
   ],
   "source": [
    "# Histogram\n",
    "### YOUR CODE HERE ###\n",
    "plt.figure(figsize = (12,5))\n",
    "sns.histplot(data = df,\n",
    "             x = \"driving_days\",\n",
    "             hue = \"label\",\n",
    "             multiple = \"fill\"\n",
    "            )\n",
    "plt.xlabel(\"Driving Days\")\n",
    "plt.ylabel(\"%\")\n",
    "plt.title(\"Churn rate per driving day\")"
   ]
  },
  {
   "cell_type": "markdown",
   "metadata": {
    "id": "RUD5Bf6yiDoa"
   },
   "source": [
    "The churn rate is highest for people who didn't use Waze much during the last month. The more times they used the app, the less likely they were to churn. While 40% of the users who didn't use the app at all last month churned, nobody who used the app 30 days churned.\n",
    "\n",
    "This isn't surprising. If people who used the app a lot churned, it would likely indicate dissatisfaction. When people who don't use the app churn, it might be the result of dissatisfaction in the past, or it might be indicative of a lesser need for a navigational app. Maybe they moved to a city with good public transportation and don't need to drive anymore."
   ]
  },
  {
   "cell_type": "markdown",
   "metadata": {
    "id": "75ncCHO7iEFi"
   },
   "source": [
    "#### **Proportion of sessions that occurred in the last month**\n",
    "\n",
    "Create a new column `percent_sessions_in_last_month` that represents the percentage of each user's total sessions that were logged in their last month of use."
   ]
  },
  {
   "cell_type": "code",
   "execution_count": 35,
   "metadata": {
    "id": "NyXwJMJTiSdK"
   },
   "outputs": [],
   "source": [
    "### YOUR CODE HERE ###\n",
    "df[\"percent_sessions_in_last_month\"] = df['sessions'] / df['total_sessions']"
   ]
  },
  {
   "cell_type": "markdown",
   "metadata": {
    "id": "w30I7A3UiWQD"
   },
   "source": [
    "What is the median value of the new column?"
   ]
  },
  {
   "cell_type": "code",
   "execution_count": 36,
   "metadata": {
    "id": "3wa8IZ7UiS5l"
   },
   "outputs": [
    {
     "data": {
      "text/plain": [
       "0.4243102549137284"
      ]
     },
     "execution_count": 36,
     "metadata": {},
     "output_type": "execute_result"
    }
   ],
   "source": [
    "### YOUR CODE HERE ###\n",
    "df[\"percent_sessions_in_last_month\"].median()"
   ]
  },
  {
   "cell_type": "markdown",
   "metadata": {
    "id": "8EKHSAnXiaIY"
   },
   "source": [
    "Now, create a histogram depicting the distribution of values in this new column."
   ]
  },
  {
   "cell_type": "code",
   "execution_count": 37,
   "metadata": {
    "id": "9NtRmPHpieC3"
   },
   "outputs": [
    {
     "data": {
      "text/plain": [
       "Text(0.45, 700, 'median = 0.42%')"
      ]
     },
     "execution_count": 37,
     "metadata": {},
     "output_type": "execute_result"
    },
    {
     "data": {
      "image/png": "[encoded data removed]",
      "text/plain": [
       "<Figure size 432x288 with 1 Axes>"
      ]
     },
     "metadata": {
      "needs_background": "light"
     },
     "output_type": "display_data"
    }
   ],
   "source": [
    "# Histogram\n",
    "### YOUR CODE HERE ###\n",
    "sns.histplot(data = df, x = \"percent_sessions_in_last_month\")\n",
    "median = df[\"percent_sessions_in_last_month\"].median()\n",
    "plt.axvline(median, color = \"red\", linestyle = \"--\")\n",
    "plt.text(.45,700, \"median = \" + str(round(median,2)) + \"%\", color = \"red\")"
   ]
  },
  {
   "cell_type": "markdown",
   "metadata": {
    "id": "_oSkxrx2iehb"
   },
   "source": [
    "Check the median value of the `n_days_after_onboarding` variable."
   ]
  },
  {
   "cell_type": "code",
   "execution_count": 38,
   "metadata": {
    "id": "pHJADu8Mi0u2"
   },
   "outputs": [
    {
     "data": {
      "text/plain": [
       "1749.0"
      ]
     },
     "execution_count": 38,
     "metadata": {},
     "output_type": "execute_result"
    }
   ],
   "source": [
    "### YOUR CODE HERE ###\n",
    "df['n_days_after_onboarding'].median()\n"
   ]
  },
  {
   "cell_type": "markdown",
   "metadata": {
    "id": "4IFsNT-9izvT"
   },
   "source": [
    "Half of the people in the dataset had 40% or more of their sessions in just the last month, yet the overall median time since onboarding is almost five years.\n",
    "\n",
    "Make a histogram of `n_days_after_onboarding` for just the people who had 40% or more of their total sessions in the last month."
   ]
  },
  {
   "cell_type": "code",
   "execution_count": 39,
   "metadata": {
    "id": "AsycVhNdi-Va"
   },
   "outputs": [
    {
     "data": {
      "image/png": "[encoded data removed]",
      "text/plain": [
       "<Figure size 432x288 with 1 Axes>"
      ]
     },
     "metadata": {
      "needs_background": "light"
     },
     "output_type": "display_data"
    }
   ],
   "source": [
    "# Histogram\n",
    "### YOUR CODE HERE ###\n",
    "sns.histplot(data = df.loc[df['percent_sessions_in_last_month']>=0.4],\n",
    "             x = \"n_days_after_onboarding\")\n",
    "\n",
    "plt.title('Num. days after onboarding for users with >=40% sessions in last month');"
   ]
  },
  {
   "cell_type": "markdown",
   "metadata": {
    "id": "flcUGkjUjAqW"
   },
   "source": [
    "The number of days since onboarding for users with 40% or more of their total sessions occurring in just the last month is a uniform distribution. This is very strange. It's worth asking Waze why so many long-time users suddenly used the app so much in the last month."
   ]
  },
  {
   "cell_type": "markdown",
   "metadata": {
    "id": "O0zL7Nd0jMYS"
   },
   "source": [
    "### **Task 3b. Handling outliers**\n",
    "\n",
    "The box plots from the previous section indicated that many of these variables have outliers. These outliers do not seem to be data entry errors; they are present because of the right-skewed distributions.\n",
    "\n",
    "Depending on what you'll be doing with this data, it may be useful to impute outlying data with more reasonable values. One way of performing this imputation is to set a threshold based on a percentile of the distribution.\n",
    "\n",
    "To practice this technique, write a function that calculates the 95th percentile of a given column, then imputes values > the 95th percentile with the value at the 95th percentile.  such as the 95th percentile of the distribution.\n",
    "\n"
   ]
  },
  {
   "cell_type": "code",
   "execution_count": 40,
   "metadata": {
    "id": "4Ki9T-m7jsGy"
   },
   "outputs": [],
   "source": [
    "### YOUR CODE HERE ###\n",
    "def outlier_imputer(column_name, percentile):\n",
    "    threshold = df[column_name].quantile(percentile)\n",
    "    # Impute threshold for values > than threshold\n",
    "    df.loc[df[column_name] > threshold, column_name] = threshold\n",
    "\n",
    "    print('{:>25} | percentile: {} | threshold: {}'.format(column_name, percentile, threshold))"
   ]
  },
  {
   "cell_type": "markdown",
   "metadata": {
    "id": "nsdi-4dSkmMF"
   },
   "source": [
    "Next, apply that function to the following columns:\n",
    "* `sessions`\n",
    "* `drives`\n",
    "* `total_sessions`\n",
    "* `driven_km_drives`\n",
    "* `duration_minutes_drives`"
   ]
  },
  {
   "cell_type": "code",
   "execution_count": 41,
   "metadata": {
    "id": "f6_TKdIHjtS9"
   },
   "outputs": [
    {
     "name": "stdout",
     "output_type": "stream",
     "text": [
      "                 sessions | percentile: 0.95 | threshold: 243.0\n",
      "                   drives | percentile: 0.95 | threshold: 200.0\n",
      "           total_sessions | percentile: 0.95 | threshold: 455.4394923899998\n",
      "         driven_km_drives | percentile: 0.95 | threshold: 8898.716274999999\n",
      "  duration_minutes_drives | percentile: 0.95 | threshold: 4668.180091799999\n"
     ]
    }
   ],
   "source": [
    "### YOUR CODE HERE ###\n",
    "for column in ['sessions', 'drives', 'total_sessions',\n",
    "               'driven_km_drives', 'duration_minutes_drives']:\n",
    "               outlier_imputer(column, 0.95)"
   ]
  },
  {
   "cell_type": "markdown",
   "metadata": {
    "id": "_Az4Ma-xj3K4"
   },
   "source": [
    "Call `describe()` to see if your change worked."
   ]
  },
  {
   "cell_type": "code",
   "execution_count": 42,
   "metadata": {
    "id": "IXQkG9RekP85"
   },
   "outputs": [
    {
     "data": {
      "text/html": [
       "<div>\n",
       "<style scoped>\n",
       "    .dataframe tbody tr th:only-of-type {\n",
       "        vertical-align: middle;\n",
       "    }\n",
       "\n",
       "    .dataframe tbody tr th {\n",
       "        vertical-align: top;\n",
       "    }\n",
       "\n",
       "    .dataframe thead th {\n",
       "        text-align: right;\n",
       "    }\n",
       "</style>\n",
       "<table border=\"1\" class=\"dataframe\">\n",
       "  <thead>\n",
       "    <tr style=\"text-align: right;\">\n",
       "      <th></th>\n",
       "      <th>ID</th>\n",
       "      <th>sessions</th>\n",
       "      <th>drives</th>\n",
       "      <th>total_sessions</th>\n",
       "      <th>n_days_after_onboarding</th>\n",
       "      <th>total_navigations_fav1</th>\n",
       "      <th>total_navigations_fav2</th>\n",
       "      <th>driven_km_drives</th>\n",
       "      <th>duration_minutes_drives</th>\n",
       "      <th>activity_days</th>\n",
       "      <th>driving_days</th>\n",
       "      <th>km_per_driving_day</th>\n",
       "      <th>percent_sessions_in_last_month</th>\n",
       "    </tr>\n",
       "  </thead>\n",
       "  <tbody>\n",
       "    <tr>\n",
       "      <th>count</th>\n",
       "      <td>14299.000000</td>\n",
       "      <td>14299.000000</td>\n",
       "      <td>14299.000000</td>\n",
       "      <td>14299.000000</td>\n",
       "      <td>14299.000000</td>\n",
       "      <td>14299.000000</td>\n",
       "      <td>14299.000000</td>\n",
       "      <td>14299.000000</td>\n",
       "      <td>14299.000000</td>\n",
       "      <td>14299.000000</td>\n",
       "      <td>14299.000000</td>\n",
       "      <td>14299.000000</td>\n",
       "      <td>14299.000000</td>\n",
       "    </tr>\n",
       "    <tr>\n",
       "      <th>mean</th>\n",
       "      <td>7503.573117</td>\n",
       "      <td>76.539688</td>\n",
       "      <td>63.964683</td>\n",
       "      <td>183.717304</td>\n",
       "      <td>1751.822505</td>\n",
       "      <td>121.747395</td>\n",
       "      <td>29.638296</td>\n",
       "      <td>3944.558631</td>\n",
       "      <td>1792.911210</td>\n",
       "      <td>15.544653</td>\n",
       "      <td>12.182530</td>\n",
       "      <td>581.942399</td>\n",
       "      <td>0.449837</td>\n",
       "    </tr>\n",
       "    <tr>\n",
       "      <th>std</th>\n",
       "      <td>4331.207621</td>\n",
       "      <td>67.243178</td>\n",
       "      <td>55.127927</td>\n",
       "      <td>118.720520</td>\n",
       "      <td>1008.663834</td>\n",
       "      <td>147.713428</td>\n",
       "      <td>45.350890</td>\n",
       "      <td>2218.358258</td>\n",
       "      <td>1224.329759</td>\n",
       "      <td>9.016088</td>\n",
       "      <td>7.833835</td>\n",
       "      <td>1038.254509</td>\n",
       "      <td>0.286863</td>\n",
       "    </tr>\n",
       "    <tr>\n",
       "      <th>min</th>\n",
       "      <td>0.000000</td>\n",
       "      <td>0.000000</td>\n",
       "      <td>0.000000</td>\n",
       "      <td>0.220211</td>\n",
       "      <td>4.000000</td>\n",
       "      <td>0.000000</td>\n",
       "      <td>0.000000</td>\n",
       "      <td>60.441250</td>\n",
       "      <td>18.282082</td>\n",
       "      <td>0.000000</td>\n",
       "      <td>0.000000</td>\n",
       "      <td>0.000000</td>\n",
       "      <td>0.000000</td>\n",
       "    </tr>\n",
       "    <tr>\n",
       "      <th>25%</th>\n",
       "      <td>3749.500000</td>\n",
       "      <td>23.000000</td>\n",
       "      <td>20.000000</td>\n",
       "      <td>90.457733</td>\n",
       "      <td>878.500000</td>\n",
       "      <td>10.000000</td>\n",
       "      <td>0.000000</td>\n",
       "      <td>2217.319909</td>\n",
       "      <td>840.181344</td>\n",
       "      <td>8.000000</td>\n",
       "      <td>5.000000</td>\n",
       "      <td>136.168003</td>\n",
       "      <td>0.196890</td>\n",
       "    </tr>\n",
       "    <tr>\n",
       "      <th>50%</th>\n",
       "      <td>7504.000000</td>\n",
       "      <td>56.000000</td>\n",
       "      <td>48.000000</td>\n",
       "      <td>158.718571</td>\n",
       "      <td>1749.000000</td>\n",
       "      <td>71.000000</td>\n",
       "      <td>9.000000</td>\n",
       "      <td>3496.545617</td>\n",
       "      <td>1479.394387</td>\n",
       "      <td>16.000000</td>\n",
       "      <td>12.000000</td>\n",
       "      <td>273.301012</td>\n",
       "      <td>0.424310</td>\n",
       "    </tr>\n",
       "    <tr>\n",
       "      <th>75%</th>\n",
       "      <td>11257.500000</td>\n",
       "      <td>111.000000</td>\n",
       "      <td>93.000000</td>\n",
       "      <td>253.540450</td>\n",
       "      <td>2627.500000</td>\n",
       "      <td>178.000000</td>\n",
       "      <td>43.000000</td>\n",
       "      <td>5299.972162</td>\n",
       "      <td>2466.928876</td>\n",
       "      <td>23.000000</td>\n",
       "      <td>19.000000</td>\n",
       "      <td>558.018761</td>\n",
       "      <td>0.687251</td>\n",
       "    </tr>\n",
       "    <tr>\n",
       "      <th>max</th>\n",
       "      <td>14998.000000</td>\n",
       "      <td>243.000000</td>\n",
       "      <td>200.000000</td>\n",
       "      <td>455.439492</td>\n",
       "      <td>3500.000000</td>\n",
       "      <td>1236.000000</td>\n",
       "      <td>415.000000</td>\n",
       "      <td>8898.716275</td>\n",
       "      <td>4668.180092</td>\n",
       "      <td>31.000000</td>\n",
       "      <td>30.000000</td>\n",
       "      <td>15420.234110</td>\n",
       "      <td>1.530637</td>\n",
       "    </tr>\n",
       "  </tbody>\n",
       "</table>\n",
       "</div>"
      ],
      "text/plain": [
       "                 ID      sessions        drives  total_sessions  \\\n",
       "count  14299.000000  14299.000000  14299.000000    14299.000000   \n",
       "mean    7503.573117     76.539688     63.964683      183.717304   \n",
       "std     4331.207621     67.243178     55.127927      118.720520   \n",
       "min        0.000000      0.000000      0.000000        0.220211   \n",
       "25%     3749.500000     23.000000     20.000000       90.457733   \n",
       "50%     7504.000000     56.000000     48.000000      158.718571   \n",
       "75%    11257.500000    111.000000     93.000000      253.540450   \n",
       "max    14998.000000    243.000000    200.000000      455.439492   \n",
       "\n",
       "       n_days_after_onboarding  total_navigations_fav1  \\\n",
       "count             14299.000000            14299.000000   \n",
       "mean               1751.822505              121.747395   \n",
       "std                1008.663834              147.713428   \n",
       "min                   4.000000                0.000000   \n",
       "25%                 878.500000               10.000000   \n",
       "50%                1749.000000               71.000000   \n",
       "75%                2627.500000              178.000000   \n",
       "max                3500.000000             1236.000000   \n",
       "\n",
       "       total_navigations_fav2  driven_km_drives  duration_minutes_drives  \\\n",
       "count            14299.000000      14299.000000             14299.000000   \n",
       "mean                29.638296       3944.558631              1792.911210   \n",
       "std                 45.350890       2218.358258              1224.329759   \n",
       "min                  0.000000         60.441250                18.282082   \n",
       "25%                  0.000000       2217.319909               840.181344   \n",
       "50%                  9.000000       3496.545617              1479.394387   \n",
       "75%                 43.000000       5299.972162              2466.928876   \n",
       "max                415.000000       8898.716275              4668.180092   \n",
       "\n",
       "       activity_days  driving_days  km_per_driving_day  \\\n",
       "count   14299.000000  14299.000000        14299.000000   \n",
       "mean       15.544653     12.182530          581.942399   \n",
       "std         9.016088      7.833835         1038.254509   \n",
       "min         0.000000      0.000000            0.000000   \n",
       "25%         8.000000      5.000000          136.168003   \n",
       "50%        16.000000     12.000000          273.301012   \n",
       "75%        23.000000     19.000000          558.018761   \n",
       "max        31.000000     30.000000        15420.234110   \n",
       "\n",
       "       percent_sessions_in_last_month  \n",
       "count                    14299.000000  \n",
       "mean                         0.449837  \n",
       "std                          0.286863  \n",
       "min                          0.000000  \n",
       "25%                          0.196890  \n",
       "50%                          0.424310  \n",
       "75%                          0.687251  \n",
       "max                          1.530637  "
      ]
     },
     "execution_count": 42,
     "metadata": {},
     "output_type": "execute_result"
    }
   ],
   "source": [
    "### YOUR CODE HERE ###\n",
    "df.describe()"
   ]
  },
  {
   "cell_type": "markdown",
   "metadata": {
    "id": "DHwqofOJkQcl"
   },
   "source": [
    "#### **Conclusion**\n",
    "\n",
    "Analysis revealed that the overall churn rate is \\~17%, and that this rate is consistent between iPhone users and Android users.\n",
    "\n",
    "Perhaps you feel that the more deeply you explore the data, the more questions arise. This is not uncommon! In this case, it's worth asking the Waze data team why so many users used the app so much in just the last month.\n",
    "\n",
    "Also, EDA has revealed that users who drive very long distances on their driving days are _more_ likely to churn, but users who drive more often are _less_ likely to churn. The reason for this discrepancy is an opportunity for further investigation, and it would be something else to ask the Waze data team about."
   ]
  },
  {
   "cell_type": "markdown",
   "metadata": {
    "id": "NsvBtco1x8GN"
   },
   "source": [
    "\n",
    "## **PACE: Execute**\n",
    "\n",
    "Consider the questions in your PACE Strategy Document to reflect on the Execute stage."
   ]
  },
  {
   "cell_type": "markdown",
   "metadata": {
    "id": "csHAfM-RSO7l"
   },
   "source": [
    "### **Task 4a. Results and evaluation**\n",
    "\n",
    "\n"
   ]
  },
  {
   "cell_type": "markdown",
   "metadata": {
    "id": "8DPt8f6Pa2hg"
   },
   "source": [
    "Use the following two code blocks (add more blocks if you like) to do additional EDA you feel is important based on the given scenario."
   ]
  },
  {
   "cell_type": "markdown",
   "metadata": {
    "id": "U4HeITeOwXfo"
   },
   "source": [
    "### **Task 4b. Conclusion**\n",
    "\n",
    "Now that you've explored and visualized your data, the next step is to share your findings with Harriet Hadzic, Waze's Director of Data Analysis. Consider the following questions as you prepare to write your executive summary. Think about key points you may want to share with the team, and what information is most relevant to the user churn project.\n",
    "\n",
    "**Questions:**\n",
    "\n",
    "1. What types of distributions did you notice in the variables? What did this tell you about the data?\n",
    "\n",
    "> *Nearly all the variables were either very right-skewed or uniformly distributed.\n",
    "\n",
    "2. Was there anything that led you to believe the data was erroneous or problematic in any way?\n",
    "\n",
    "> *Most of the data was not problematic, and there was no indication that any single variable was completely wrong. However, several variables had highly improbable or perhaps even impossible outlying values, such as `driven_km_drives`. Some of the monthly variables also might be problematic, such as `activity_days` and `driving_days`, because one has a max value of 31 while the other has a max value of 30, indicating that data collection might not have occurred in the same month for both of these variables.*\n",
    "\n",
    "3. Did your investigation give rise to further questions that you would like to explore or ask the Waze team about?\n",
    "\n",
    "> *Yes. I'd want to ask the Waze data team to confirm that the monthly variables were collected during the same month, given the fact that some have max values of 30 days while others have 31 days. I'd also want to learn why so many long-time users suddenly started using the app so much in just the last month. Was there anything that changed in the last month that might prompt this kind of behavior?*\n",
    "\n",
    "4. What percentage of users churned and what percentage were retained?\n",
    "\n",
    "> *Less than 18% of users churned, and \\~82% were retained.*\n",
    "\n",
    "5. What factors correlated with user churn? How?\n",
    "\n",
    "> *Distance driven per driving day had a positive correlation with user churn. The farther a user drove on each driving day, the more likely they were to churn. On the other hand, number of driving days had a negative correlation with churn. Users who drove more days of the last month were less likely to churn.*\n",
    "\n",
    "6. Did newer uses have greater representation in this dataset than users with longer tenure? How do you know?\n",
    "\n",
    "> *No. Users of all tenures from brand new to \\~10 years were relatively evenly represented in the data. This is borne out by the histogram for `n_days_after_onboarding`, which reveals a uniform distribution for this variable.*\n"
   ]
  }
 ],
 "metadata": {
  "colab": {
   "provenance": [
    {
     "file_id": "1DQhamPzI3QON4eTBzHHk4F0UnN9eILCd",
     "timestamp": 1671052108573
    },
    {
     "file_id": "1y_9vAHPuwnA8Kmbw8rzKTHoWxLUcyJM-",
     "timestamp": 1668985233529
    }
   ],
   "toc_visible": true
  },
  "kernelspec": {
   "display_name": "Python 3",
   "language": "python",
   "name": "python3"
  },
  "language_info": {
   "codemirror_mode": {
    "name": "ipython",
    "version": 3
   },
   "file_extension": ".py",
   "mimetype": "text/x-python",
   "name": "python",
   "nbconvert_exporter": "python",
   "pygments_lexer": "ipython3",
   "version": "3.7.6"
  }
 },
 "nbformat": 4,
 "nbformat_minor": 1
}
